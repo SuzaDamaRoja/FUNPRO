{
  "nbformat": 4,
  "nbformat_minor": 0,
  "metadata": {
    "colab": {
      "provenance": [],
      "authorship_tag": "ABX9TyNaRPjkUa3ubUKBTX5lF8S4",
      "include_colab_link": true
    },
    "kernelspec": {
      "name": "python3",
      "display_name": "Python 3"
    },
    "language_info": {
      "name": "python"
    }
  },
  "cells": [
    {
      "cell_type": "markdown",
      "metadata": {
        "id": "view-in-github",
        "colab_type": "text"
      },
      "source": [
        "<a href=\"https://colab.research.google.com/github/SuzaDamaRoja/FUNPRO/blob/main/CLASE_1_Estructuras_de_selecci%C3%B3n.ipynb\" target=\"_parent\"><img src=\"https://colab.research.google.com/assets/colab-badge.svg\" alt=\"Open In Colab\"/></a>"
      ]
    },
    {
      "cell_type": "markdown",
      "source": [
        "#ESTRUCTURAS DE SELECCIÓN\n",
        "1. Estructura si/entonces - if/else\n",
        "2. Estructura si/sino/entonces - if/elif/else\n",
        "3. Estructura de selección múltiple - case"
      ],
      "metadata": {
        "id": "l-yXRqf1QxaS"
      }
    },
    {
      "cell_type": "markdown",
      "source": [
        "##Estructura si/entonces if/else\n",
        "Sirve para evaluar una condición.\n",
        "Estas condiciones darán un valor de verdad\n",
        "Sintaxis\n",
        "```\n",
        "if (condición):\n",
        "  aquí va algo, si la condición es verdadera\n",
        "else:\n",
        "  aquí va algo, si la condición es falsa\n",
        "```\n",
        "\n"
      ],
      "metadata": {
        "id": "qhTfsOJ2TCBW"
      }
    },
    {
      "cell_type": "markdown",
      "source": [
        "![image.png](data:image/png;base64,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)"
      ],
      "metadata": {
        "id": "5lmYwiR7U-NG"
      }
    },
    {
      "cell_type": "code",
      "execution_count": null,
      "metadata": {
        "colab": {
          "base_uri": "https://localhost:8080/"
        },
        "id": "dyfNVcGqQe_R",
        "outputId": "780b61db-aad8-4a68-b670-33b0b7b1e58b"
      },
      "outputs": [
        {
          "name": "stdout",
          "output_type": "stream",
          "text": [
            "Detecto poca gasolina en el tanque\n",
            "Desea ir a la gasolinera más cercana?\n",
            "sí\n"
          ]
        }
      ],
      "source": [
        "#Ejemplo1: AI para gasolina\n",
        "respuesta=\"\" #Declaramos una variable como caracter\n",
        "#Para imprimir, usamos el comando print\n",
        "print(\"Detecto poca gasolina en el tanque\")\n",
        "print(\"Desea ir a la gasolinera más cercana?\")\n",
        "#función input para leer respuestas\n",
        "respuesta=input()"
      ]
    },
    {
      "cell_type": "code",
      "source": [
        "respuesta=input(\"Detecto poca gasolina en el tanque\\nDesea ir a la gasolinera más cercana?\")"
      ],
      "metadata": {
        "colab": {
          "base_uri": "https://localhost:8080/"
        },
        "id": "SOLj_XwParfD",
        "outputId": "84d2559e-767a-4fba-d54b-d5e429ada461"
      },
      "execution_count": null,
      "outputs": [
        {
          "name": "stdout",
          "output_type": "stream",
          "text": [
            "Detecto poca gasolina en el tanque\n",
            "Desea ir a la gasolinera más cercana?sí\n"
          ]
        }
      ]
    },
    {
      "cell_type": "code",
      "source": [
        "if respuesta==\"sí\":\n",
        "  print(\"Ir a la gasolinera más cercana\")\n",
        "else:\n",
        "  print(\"seguimos derecho\")"
      ],
      "metadata": {
        "colab": {
          "base_uri": "https://localhost:8080/"
        },
        "id": "8-Iius8bcRqA",
        "outputId": "be226d62-d4e2-4efb-ed6b-a379108afcff"
      },
      "execution_count": null,
      "outputs": [
        {
          "output_type": "stream",
          "name": "stdout",
          "text": [
            "Ir a la gasolinera más cercana\n"
          ]
        }
      ]
    },
    {
      "cell_type": "code",
      "source": [
        "#Vamos a mejorar el ejercicio\n",
        "import random #importando la librería random\n",
        "gasolina=random.randint(1,100)#Hallar un número aleatorio entre 1 y 100\n",
        "gasolina"
      ],
      "metadata": {
        "colab": {
          "base_uri": "https://localhost:8080/"
        },
        "id": "jF2kXcAlfwLl",
        "outputId": "b3fef8df-bc80-422d-d24f-3f827a2a793b"
      },
      "execution_count": null,
      "outputs": [
        {
          "output_type": "execute_result",
          "data": {
            "text/plain": [
              "2"
            ]
          },
          "metadata": {},
          "execution_count": 30
        }
      ]
    },
    {
      "cell_type": "code",
      "source": [
        "if gasolina<=10:\n",
        "  respuesta=input(\"Detecto poca gasolina en el tanque\\nDesea ir a la gasolinera más cercana?\")\n",
        "  if respuesta==\"sí\":\n",
        "    print(\"Ir a la gasolinera más cercana⛽\")\n",
        "  else:\n",
        "    print(\"seguimos derecho🛣️\")\n",
        "else:\n",
        "  print(\"Sigo por el camino🛣️\")"
      ],
      "metadata": {
        "colab": {
          "base_uri": "https://localhost:8080/"
        },
        "id": "XM6dOE3BgS3H",
        "outputId": "c50bc956-46a0-437b-e510-a15fb0757eb7"
      },
      "execution_count": null,
      "outputs": [
        {
          "output_type": "stream",
          "name": "stdout",
          "text": [
            "Detecto poca gasolina en el tanque\n",
            "Desea ir a la gasolinera más cercana?zi\n",
            "seguimos derecho\n"
          ]
        }
      ]
    },
    {
      "cell_type": "markdown",
      "source": [
        "##IF-ELIF-ELSE\n",
        "\n",
        "Una de las formas para representar un switch\n",
        "1. Hay una o varias variables a evaluar\n",
        "2. Hay tantas condiciones como \"paticas\"+1\n",
        "3. La última evaluación es ninguna de las anteriores (else)\n",
        "4. La primera patica siempre recibe el \"if\"\n",
        "5. El resto de paticas recibe \"elif\"\n",
        "Sintaxis\n",
        "\n",
        "```\n",
        "if condición1:\n",
        "  expresión 1\n",
        "elif condición2:\n",
        "  expresión 2\n",
        "elif condición3:\n",
        "  expresión 3\n",
        ".\n",
        ".\n",
        ".\n",
        "else:\n",
        "  ninguna de las anteriores\n",
        "```\n",
        "\n"
      ],
      "metadata": {
        "id": "1wP0tsNlP3Xw"
      }
    },
    {
      "cell_type": "markdown",
      "source": [
        "![image.png](data:image/png;base64,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)"
      ],
      "metadata": {
        "id": "mee0dKFwRZnI"
      }
    },
    {
      "cell_type": "markdown",
      "source": [],
      "metadata": {
        "id": "nO026KjoRbhX"
      }
    },
    {
      "cell_type": "code",
      "source": [
        "#Pasa o no la materia, dependiendo de promedio>3 y asistencia>80%\n",
        "nota=float(input(\"Ingrese su promedio: \"))\n",
        "asistencia=int(input(\"Ingrese la cantidad de horas asistidas: \"))\n",
        "horas_totales=int(input(\"Ingrese la cantidad de horas totales de la clase: \"))\n",
        "if nota>=3 and asistencia>horas_totales*.8:\n",
        "  print(f\"El estudiante pasó la materia con {nota} y asistió más del 80% de las clases.\")\n",
        "elif nota<3 and asistencia>horas_totales*.8:\n",
        "  print(f\"El estudiante pierde la materia con {nota} pero asistió a más del 80% de las clases.\")\n",
        "elif nota>=3 and asistencia<horas_totales*.8:\n",
        "  print(f\"El estudiante pasó la materia con {nota} pero pierde debido a inasistencias.\")\n",
        "else:\n",
        "  print(f\"El estudiante perdió la materia con {nota} y no asistió a las clases suficientes\")"
      ],
      "metadata": {
        "colab": {
          "base_uri": "https://localhost:8080/"
        },
        "id": "BxxMGACmS3jx",
        "outputId": "64e7a0df-4cbf-4d55-98d5-914458b79ebc"
      },
      "execution_count": 1,
      "outputs": [
        {
          "output_type": "stream",
          "name": "stdout",
          "text": [
            "Ingrese su promedio4\n",
            "Ingrese la cantidad de horas asistidas3\n",
            "Ingrese la cantidad de horas totales de la clase10\n",
            "El estudiante pasó la materia con 4.0 pero pierde debido a inasistencias.\n"
          ]
        }
      ]
    },
    {
      "cell_type": "markdown",
      "source": [
        "#MATCH-CASE\n",
        "Otra forma de ver la estructura switch\n",
        "1. Dentro del hexágono se coloca la variable a evaluar\n",
        "2. Tantas \"paticas\" como valores pueda adoptar la variable\n",
        "3. Opcional: se coloca else-->case _\n",
        "4. **NO LO USES SI SE VAN A EVALUAR RANGOS**\n",
        "\n",
        "Sintaxis\n",
        "```\n",
        "match variable:\n",
        "  case valor1: expresión 1\n",
        "  case valor2: expresión 2\n",
        "  case valorn: expresion n\n",
        "  case _: ninguna de las anteriores\n",
        "```\n",
        "\n"
      ],
      "metadata": {
        "id": "NQ1ExTh4X_oB"
      }
    },
    {
      "cell_type": "markdown",
      "source": [
        "![image.png](data:image/png;base64,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)"
      ],
      "metadata": {
        "id": "4s8Cl4RXYuKP"
      }
    },
    {
      "cell_type": "code",
      "source": [
        "#Programa que identifique si la letra ingresada es una vocal mayúscula, minúscula o no es vocal\n",
        "letra=input(\"Ingrese una letra: \")\n",
        "match letra:\n",
        "  case \"a\":print(f\"{letra} es una vocal minúscula\")\n",
        "  case \"e\":print(f\"{letra} es una vocal minúscula\")\n",
        "  case \"i\":print(f\"{letra} es una vocal minúscula\")\n",
        "  case \"o\":print(f\"{letra} es una vocal minúscula\")\n",
        "  case \"u\":print(f\"{letra} es una vocal minúscula\")\n",
        "  case \"A\":print(f\"{letra} es una vocal MAYÚSCULA\")\n",
        "  case \"E\":print(f\"{letra} es una vocal MAYÚSCULA\")\n",
        "  case \"I\":print(f\"{letra} es una vocal MAYÚSCULA\")\n",
        "  case \"O\":print(f\"{letra} es una vocal MAYÚSCULA\")\n",
        "  case \"U\":print(f\"{letra} es una vocal MAYÚSCULA\")\n",
        "  case _:print(f\"{letra} no es una vocal\")"
      ],
      "metadata": {
        "colab": {
          "base_uri": "https://localhost:8080/"
        },
        "id": "yD5Q9lV_YEnP",
        "outputId": "49f6fcd1-b5c8-4cab-85fa-3477b11d7b53"
      },
      "execution_count": 5,
      "outputs": [
        {
          "output_type": "stream",
          "name": "stdout",
          "text": [
            "Ingrese una letra: A\n",
            "A es una vocal MAYÚSCULA\n"
          ]
        }
      ]
    },
    {
      "cell_type": "code",
      "source": [
        "if letra==\"a\" or letra==\"e\" or letra==\"i\" or letra==\"o\" or letra==\"u\":\n",
        "  print(f\"{letra} es una vocal minúscula\")\n",
        "elif letra==\"A\" or letra==\"E\" or letra==\"I\" or letra==\"O\" or letra==\"U\":\n",
        "  print(f\"{letra} es una vocal MAYÚSCULA\")\n",
        "else:\n",
        "  print(f\"{letra} no es una vocal\")"
      ],
      "metadata": {
        "id": "m7g2jmbmdmDO"
      },
      "execution_count": null,
      "outputs": []
    },
    {
      "cell_type": "code",
      "source": [
        "if (dia==\"sábado\" or dia==\"domingo\" or dia==\"festivo\") and kws>=1000:\n",
        ""
      ],
      "metadata": {
        "id": "kJyWc0MQiVCt"
      },
      "execution_count": null,
      "outputs": []
    }
  ]
}