{
  "nbformat": 4,
  "nbformat_minor": 0,
  "metadata": {
    "colab": {
      "provenance": [],
      "authorship_tag": "ABX9TyOo6dicga9wi+U81DgusrwR",
      "include_colab_link": true
    },
    "kernelspec": {
      "name": "python3",
      "display_name": "Python 3"
    },
    "language_info": {
      "name": "python"
    }
  },
  "cells": [
    {
      "cell_type": "markdown",
      "metadata": {
        "id": "view-in-github",
        "colab_type": "text"
      },
      "source": [
        "<a href=\"https://colab.research.google.com/github/SuzaDamaRoja/FUNPRO/blob/main/CLASE_1_Estructuras_de_selecci%C3%B3n.ipynb\" target=\"_parent\"><img src=\"https://colab.research.google.com/assets/colab-badge.svg\" alt=\"Open In Colab\"/></a>"
      ]
    },
    {
      "cell_type": "markdown",
      "source": [
        "#ESTRUCTURAS DE SELECCIÓN\n",
        "1. Estructura si/entonces - if/else\n",
        "2. Estructura si/sino/entonces - if/elif/else\n",
        "3. Estructura de selección múltiple - case"
      ],
      "metadata": {
        "id": "l-yXRqf1QxaS"
      }
    },
    {
      "cell_type": "markdown",
      "source": [
        "##Estructura si/entonces if/else\n",
        "Sirve para evaluar una condición.\n",
        "Estas condiciones darán un valor de verdad\n",
        "Sintaxis\n",
        "```\n",
        "if (condición):\n",
        "  aquí va algo, si la condición es verdadera\n",
        "else:\n",
        "  aquí va algo, si la condición es falsa\n",
        "```\n",
        "\n"
      ],
      "metadata": {
        "id": "qhTfsOJ2TCBW"
      }
    },
    {
      "cell_type": "markdown",
      "source": [
        "![image.png](data:image/png;base64,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)"
      ],
      "metadata": {
        "id": "5lmYwiR7U-NG"
      }
    },
    {
      "cell_type": "code",
      "execution_count": 2,
      "metadata": {
        "colab": {
          "base_uri": "https://localhost:8080/"
        },
        "id": "dyfNVcGqQe_R",
        "outputId": "780b61db-aad8-4a68-b670-33b0b7b1e58b"
      },
      "outputs": [
        {
          "name": "stdout",
          "output_type": "stream",
          "text": [
            "Detecto poca gasolina en el tanque\n",
            "Desea ir a la gasolinera más cercana?\n",
            "sí\n"
          ]
        }
      ],
      "source": [
        "#Ejemplo1: AI para gasolina\n",
        "respuesta=\"\" #Declaramos una variable como caracter\n",
        "#Para imprimir, usamos el comando print\n",
        "print(\"Detecto poca gasolina en el tanque\")\n",
        "print(\"Desea ir a la gasolinera más cercana?\")\n",
        "#función input para leer respuestas\n",
        "respuesta=input()"
      ]
    },
    {
      "cell_type": "code",
      "source": [
        "respuesta=input(\"Detecto poca gasolina en el tanque\\nDesea ir a la gasolinera más cercana?\")"
      ],
      "metadata": {
        "colab": {
          "base_uri": "https://localhost:8080/"
        },
        "id": "SOLj_XwParfD",
        "outputId": "84d2559e-767a-4fba-d54b-d5e429ada461"
      },
      "execution_count": 4,
      "outputs": [
        {
          "name": "stdout",
          "output_type": "stream",
          "text": [
            "Detecto poca gasolina en el tanque\n",
            "Desea ir a la gasolinera más cercana?sí\n"
          ]
        }
      ]
    },
    {
      "cell_type": "code",
      "source": [
        "if respuesta==\"sí\":\n",
        "  print(\"Ir a la gasolinera más cercana\")\n",
        "else:\n",
        "  print(\"seguimos derecho\")"
      ],
      "metadata": {
        "colab": {
          "base_uri": "https://localhost:8080/"
        },
        "id": "8-Iius8bcRqA",
        "outputId": "be226d62-d4e2-4efb-ed6b-a379108afcff"
      },
      "execution_count": 5,
      "outputs": [
        {
          "output_type": "stream",
          "name": "stdout",
          "text": [
            "Ir a la gasolinera más cercana\n"
          ]
        }
      ]
    },
    {
      "cell_type": "code",
      "source": [
        "#Vamos a mejorar el ejercicio\n",
        "import random #importando la librería random\n",
        "gasolina=random.randint(1,100)#Hallar un número aleatorio entre 1 y 100\n",
        "gasolina"
      ],
      "metadata": {
        "colab": {
          "base_uri": "https://localhost:8080/"
        },
        "id": "jF2kXcAlfwLl",
        "outputId": "b3fef8df-bc80-422d-d24f-3f827a2a793b"
      },
      "execution_count": 30,
      "outputs": [
        {
          "output_type": "execute_result",
          "data": {
            "text/plain": [
              "2"
            ]
          },
          "metadata": {},
          "execution_count": 30
        }
      ]
    },
    {
      "cell_type": "code",
      "source": [
        "if gasolina<=10:\n",
        "  respuesta=input(\"Detecto poca gasolina en el tanque\\nDesea ir a la gasolinera más cercana?\")\n",
        "  if respuesta==\"sí\":\n",
        "    print(\"Ir a la gasolinera más cercana⛽\")\n",
        "  else:\n",
        "    print(\"seguimos derecho🛣️\")\n",
        "else:\n",
        "  print(\"Sigo por el camino🛣️\")"
      ],
      "metadata": {
        "colab": {
          "base_uri": "https://localhost:8080/"
        },
        "id": "XM6dOE3BgS3H",
        "outputId": "c50bc956-46a0-437b-e510-a15fb0757eb7"
      },
      "execution_count": 31,
      "outputs": [
        {
          "output_type": "stream",
          "name": "stdout",
          "text": [
            "Detecto poca gasolina en el tanque\n",
            "Desea ir a la gasolinera más cercana?zi\n",
            "seguimos derecho\n"
          ]
        }
      ]
    }
  ]
}