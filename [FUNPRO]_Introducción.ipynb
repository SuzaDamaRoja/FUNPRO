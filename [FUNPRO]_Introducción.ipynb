{
  "nbformat": 4,
  "nbformat_minor": 0,
  "metadata": {
    "colab": {
      "provenance": []
    },
    "kernelspec": {
      "name": "python3",
      "display_name": "Python 3"
    },
    "language_info": {
      "name": "python"
    }
  },
  "cells": [
    {
      "cell_type": "markdown",
      "source": [
        "##COMANDOS\n",
        "\n",
        "1. Imprimir: print()\n",
        "2. Lee, imprime y asigna: variable=input()\n",
        "3. int(input()): Convierte de caracter a entero\n",
        "4. float(input()): Convierte de caracter a decimal"
      ],
      "metadata": {
        "id": "FiiBcxPFMbny"
      }
    },
    {
      "cell_type": "code",
      "execution_count": 1,
      "metadata": {
        "colab": {
          "base_uri": "https://localhost:8080/"
        },
        "id": "ToFue7OpMH8k",
        "outputId": "676bfc28-12c0-4729-845f-19d87358205d"
      },
      "outputs": [
        {
          "name": "stdout",
          "output_type": "stream",
          "text": [
            "Ingrese el código del estudiante: U00012548\n"
          ]
        }
      ],
      "source": [
        "#Leer código el estudiante\n",
        "cod=input(\"Ingrese el código del estudiante: \")"
      ]
    },
    {
      "cell_type": "code",
      "source": [
        "#Leer cinco calificaciones\n",
        "nota1=float(input(\"Ingrese nota 1: \"))\n",
        "nota2=float(input(\"Ingrese nota 2: \"))\n",
        "nota3=float(input(\"Ingrese nota 3: \"))\n",
        "nota4=float(input(\"Ingrese nota 4: \"))\n",
        "nota5=float(input(\"Ingrese nota 5: \"))"
      ],
      "metadata": {
        "colab": {
          "base_uri": "https://localhost:8080/"
        },
        "id": "rUJ_ETWKNSaZ",
        "outputId": "54b090ec-138e-4119-89b3-0924c73e1f75"
      },
      "execution_count": 9,
      "outputs": [
        {
          "name": "stdout",
          "output_type": "stream",
          "text": [
            "Ingrese nota 1: 3.5\n",
            "Ingrese nota 2: 2.5\n",
            "Ingrese nota 3: 4\n",
            "Ingrese nota 4: 3.1\n",
            "Ingrese nota 5: 5\n"
          ]
        }
      ]
    },
    {
      "cell_type": "code",
      "source": [
        "promedio=(nota1+nota2+nota3+nota4+nota5)/5"
      ],
      "metadata": {
        "id": "N7Qz7zrFPQPv"
      },
      "execution_count": 7,
      "outputs": []
    },
    {
      "cell_type": "code",
      "source": [
        "print(f\"Código del estudiante: {cod}\\nPromedio: {promedio}\")"
      ],
      "metadata": {
        "colab": {
          "base_uri": "https://localhost:8080/"
        },
        "id": "mrysua-_RcZt",
        "outputId": "61fafb45-0bb5-47d7-ea43-0b98a32ae858"
      },
      "execution_count": 12,
      "outputs": [
        {
          "output_type": "stream",
          "name": "stdout",
          "text": [
            "Código del estudiante: U00012548\n",
            "Promedio: 3.62\n"
          ]
        }
      ]
    }
  ]
}