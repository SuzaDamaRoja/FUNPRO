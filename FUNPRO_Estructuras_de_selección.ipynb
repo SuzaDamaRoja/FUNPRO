{
  "nbformat": 4,
  "nbformat_minor": 0,
  "metadata": {
    "colab": {
      "provenance": [],
      "authorship_tag": "ABX9TyOzp4TL/V7ffk/7KuiAeA70",
      "include_colab_link": true
    },
    "kernelspec": {
      "name": "python3",
      "display_name": "Python 3"
    },
    "language_info": {
      "name": "python"
    }
  },
  "cells": [
    {
      "cell_type": "markdown",
      "metadata": {
        "id": "view-in-github",
        "colab_type": "text"
      },
      "source": [
        "<a href=\"https://colab.research.google.com/github/SuzaDamaRoja/FUNPRO/blob/main/FUNPRO_Estructuras_de_selecci%C3%B3n.ipynb\" target=\"_parent\"><img src=\"https://colab.research.google.com/assets/colab-badge.svg\" alt=\"Open In Colab\"/></a>"
      ]
    },
    {
      "cell_type": "markdown",
      "source": [
        "#ESTRUCTURAS DE SELECCIÓN\n",
        "1. if - else (depende de **UNA** condición).\n",
        "\n",
        "```\n",
        "if (condición):\n",
        "  Si condición es verdadera, entra aquí\n",
        "else:\n",
        "  Si condición es falsa, entra aquí\n",
        "```\n",
        "\n",
        "2. if - elif - else (puede evaluar **múltiples** condiciones)\n",
        "```\n",
        "if (condición1):\n",
        "  Si condición1 es verdadera, entra aquí\n",
        "elif (condición2):\n",
        "  Si condición2 es verdadera, entra aquí\n",
        "elif (condiciónn):\n",
        "  Si condiciónn es verdadera, entra aquí\n",
        "else:\n",
        "  Si condición es falsa, entra aquí\n",
        "```\n",
        "3. Switch (case)\n",
        "\n",
        "```\n",
        "match (variable):\n",
        "  case v1: si variable=v1 entra aquí\n",
        "  case v2: si variable=v2 entra aquí\n",
        "  case v3: si variable=v3 entra aquí\n",
        "  case vn: si variable=vn entra aquí\n",
        "  case _: Si variable ninguna de las anteriores\n",
        "```\n",
        "\n"
      ],
      "metadata": {
        "id": "OfnuCxoORm1h"
      }
    },
    {
      "cell_type": "code",
      "execution_count": null,
      "metadata": {
        "colab": {
          "base_uri": "https://localhost:8080/"
        },
        "id": "LfLFNx8NRYCv",
        "outputId": "0b2fdef9-377c-49f8-8dc2-8ba2b328f527"
      },
      "outputs": [
        {
          "name": "stdout",
          "output_type": "stream",
          "text": [
            "Ingrese la edad del primer hermano: 20\n",
            "Ingrese la edad del segundo hermano: 26\n",
            "Ingrese la edad del tercer hermano: 30\n"
          ]
        }
      ],
      "source": [
        "#Ejercicio1:\n",
        "#Saber cuál es mayor de tres hermanos\n",
        "edad1=int(input(\"Ingrese la edad del primer hermano: \"))\n",
        "edad2=int(input(\"Ingrese la edad del segundo hermano: \"))\n",
        "edad3=int(input(\"Ingrese la edad del tercer hermano: \"))"
      ]
    },
    {
      "cell_type": "code",
      "source": [
        "if edad1==edad2 and edad1==edad3:\n",
        "  print(\"Todos los hermanos tienen la misma edad.\")\n",
        "elif edad1==edad2 and edad1>edad3:\n",
        "  print(\"El hermano 1 y el hermano 2 son mayores\")\n",
        "elif edad1==edad2 and edad1<edad3:\n",
        "  print(\"El tercer hermano es el mayor\")\n",
        "elif edad1==edad3 and edad1>edad2:\n",
        "  print(\"El hermano 1 y 3 son los mayores\")\n",
        "elif edad1==edad3 and edad1<edad2:\n",
        "  print(\"El segundo hermano es el mayor\")\n",
        "elif edad2==edad3 and edad2>edad1:\n",
        "  print(\"El hermano 2 y 3 son los mayores\")\n",
        "elif edad2==edad3 and edad2<edad1:\n",
        "  print(\"El hermano 1 es el mayor\")\n",
        "elif edad1>edad2 and edad1>edad3:\n",
        "  print(\"El primer hermano es el mayor\")\n",
        "elif edad2>edad1 and edad2>edad3:\n",
        "  print(\"El segundo hermano es el mayor\")\n",
        "else: print(\"El tercer hermano es el mayor\")"
      ],
      "metadata": {
        "colab": {
          "base_uri": "https://localhost:8080/"
        },
        "id": "MKxuMIlZVQPW",
        "outputId": "c55d6473-95db-4cd9-d017-ad8380fbeb68"
      },
      "execution_count": null,
      "outputs": [
        {
          "output_type": "stream",
          "name": "stdout",
          "text": [
            "El tercer hermano es el mayor\n"
          ]
        }
      ]
    },
    {
      "cell_type": "code",
      "source": [
        "#Escriba un programa que le permita al usuario seleccionar una operación\n",
        "n1=int(input(\"Ingrese un número\"))\n",
        "n2=int(input(\"Ingrese otro número\"))"
      ],
      "metadata": {
        "id": "1AlheOwuk6I4",
        "colab": {
          "base_uri": "https://localhost:8080/"
        },
        "outputId": "6ab34c0e-3fb6-47ca-9177-af433c89a2ac"
      },
      "execution_count": null,
      "outputs": [
        {
          "name": "stdout",
          "output_type": "stream",
          "text": [
            "Ingrese un número4\n",
            "Ingrese otro número5\n"
          ]
        }
      ]
    },
    {
      "cell_type": "code",
      "source": [
        "opc=input(\"ingrese una operación: \\n+ para suma\\n- para resta\\nx para multiplicación\\n/ para división\\n\")"
      ],
      "metadata": {
        "id": "cEkbaRH0lAcf",
        "colab": {
          "base_uri": "https://localhost:8080/"
        },
        "outputId": "0956a722-6cd6-45a4-e3b8-af98e1561c75"
      },
      "execution_count": null,
      "outputs": [
        {
          "name": "stdout",
          "output_type": "stream",
          "text": [
            "ingrese una operación: \n",
            "+ para suma\n",
            "- para resta\n",
            "x para multiplicación\n",
            "/ para división\n",
            "5\n"
          ]
        }
      ]
    },
    {
      "cell_type": "code",
      "source": [
        "if opc==\"+\": print(f\"{n1}+{n2}={n1+n2}\")\n",
        "elif opc==\"-\": print(f\"{n1}-{n2}={n1-n2}\")\n",
        "elif opc==\"x\": print(f\"{n1}x{n2}={n1*n2}\")\n",
        "elif opc==\"/\": print(f\"{n1}/{n2}={n1/n2}\")\n",
        "else: print(\"Operación no válida\")"
      ],
      "metadata": {
        "colab": {
          "base_uri": "https://localhost:8080/"
        },
        "id": "xp9a1vk_FuF2",
        "outputId": "fba56ad0-8c98-4213-e61b-ab9a7e7819ee"
      },
      "execution_count": null,
      "outputs": [
        {
          "output_type": "stream",
          "name": "stdout",
          "text": [
            "Operación no válida\n"
          ]
        }
      ]
    },
    {
      "cell_type": "code",
      "source": [
        "match opc:\n",
        "  case \"+\": print(f\"{n1}+{n2}={n1+n2}\")\n",
        "  case \"-\": print(f\"{n1}-{n2}={n1-n2}\")\n",
        "  case \"x\": print(f\"{n1}x{n2}={n1*n2}\")\n",
        "  case \"/\": print(f\"{n1}/{n2}={n1/n2}\")\n",
        "  case _: print(\"Operación no válida\")"
      ],
      "metadata": {
        "colab": {
          "base_uri": "https://localhost:8080/"
        },
        "id": "neJjSOJuGcCV",
        "outputId": "fddc3056-407f-4e3f-9404-333ce29d9e93"
      },
      "execution_count": null,
      "outputs": [
        {
          "output_type": "stream",
          "name": "stdout",
          "text": [
            "Operación no válida\n"
          ]
        }
      ]
    },
    {
      "cell_type": "code",
      "source": [
        "#Hacer un programa que imprima cuánto debo pagar por un cono de popsy\n",
        "s=input(\"Qué sabor quieres de helado?\")"
      ],
      "metadata": {
        "colab": {
          "base_uri": "https://localhost:8080/"
        },
        "id": "xa-lgzNUIMQ1",
        "outputId": "31ac0853-67ed-4062-f1bd-6f0107ead749"
      },
      "execution_count": null,
      "outputs": [
        {
          "name": "stdout",
          "output_type": "stream",
          "text": [
            "Qué sabor quieres de helado?vainilla\n"
          ]
        }
      ]
    },
    {
      "cell_type": "code",
      "source": [
        "if s==\"juan valdez\":\n",
        "  precio=10000\n",
        "  print(f\"Usted eligió {s} y adeuda ${precio}.\")\n",
        "elif s==\"arequipe milkyway\":\n",
        "  precio=12000\n",
        "  print(f\"Usted eligió {s} y adeuda ${precio}.\")\n",
        "elif s==\"nevado\":\n",
        "  precio=15000\n",
        "  print(f\"Usted eligió {s} y adeuda ${precio}.\")\n",
        "elif s==\"macadamia\":\n",
        "  precio=6000\n",
        "  print(f\"Usted eligió {s} y adeuda ${precio}.\")\n",
        "elif s==\"vainilla\":\n",
        "  precio=7000\n",
        "  print(f\"Usted eligió {s} y adeuda ${precio}.\")\n",
        "else: print(\"Lo siento, no vendemos ese sabor\")\n"
      ],
      "metadata": {
        "colab": {
          "base_uri": "https://localhost:8080/"
        },
        "id": "VlufSKgTIjfj",
        "outputId": "17aab665-cd30-420c-c261-45b60d48ee07"
      },
      "execution_count": null,
      "outputs": [
        {
          "output_type": "stream",
          "name": "stdout",
          "text": [
            "Usted eligió vainilla y adeuda $7000.\n"
          ]
        }
      ]
    },
    {
      "cell_type": "code",
      "source": [
        "if s==\"juan valdez\": precio=10000\n",
        "elif s==\"arequipe milkyway\": precio=12000\n",
        "elif s==\"nevado\": precio=15000\n",
        "elif s==\"macadamia\": precio=6000\n",
        "elif s==\"vainilla\": precio=7000\n",
        "else: print(\"Lo siento, no vendemos ese sabor\")\n",
        "if s==\"juan valdez\" or s==\"arequipe milkyway\" or s==\"nevado\" or s==\"macadamia\" or s==\"vainilla\":\n",
        "  print(f\"Usted eligió {s} y adeuda ${precio}.\")"
      ],
      "metadata": {
        "colab": {
          "base_uri": "https://localhost:8080/"
        },
        "id": "JKn54c1rQhht",
        "outputId": "2058657a-fc7d-4b54-8402-cb64437698c9"
      },
      "execution_count": null,
      "outputs": [
        {
          "output_type": "stream",
          "name": "stdout",
          "text": [
            "Usted eligió vainilla y adeuda $7000.\n"
          ]
        }
      ]
    },
    {
      "cell_type": "code",
      "source": [
        "if s==\"juan valdez\": precio=10000\n",
        "elif s==\"arequipe milkyway\": precio=12000\n",
        "elif s==\"nevado\": precio=15000\n",
        "elif s==\"macadamia\": precio=6000\n",
        "elif s==\"vainilla\": precio=7000\n",
        "else: print(\"Lo siento, no vendemos ese sabor\")\n",
        "if precio>0:\n",
        "  print(f\"Usted eligió {s} y adeuda ${precio}.\")"
      ],
      "metadata": {
        "id": "z2Phngl7RCjn",
        "outputId": "a7355eab-d142-48cb-8e01-3f1a45b40124",
        "colab": {
          "base_uri": "https://localhost:8080/"
        }
      },
      "execution_count": null,
      "outputs": [
        {
          "output_type": "stream",
          "name": "stdout",
          "text": [
            "Usted eligió vainilla y adeuda $7000.\n"
          ]
        }
      ]
    }
  ]
}